{
 "cells": [
  {
   "cell_type": "markdown",
   "id": "c75473c7",
   "metadata": {},
   "source": [
    "# Programming Assignment 5\n",
    "# by Jesse Bicknell\n",
    "# version 3.11.5\n",
    "# CS150 Fall2023"
   ]
  },
  {
   "cell_type": "markdown",
   "id": "b0c849f0",
   "metadata": {},
   "source": [
    "## Task 1: Language Translator"
   ]
  },
  {
   "cell_type": "code",
   "execution_count": 10,
   "id": "fca1dc50",
   "metadata": {},
   "outputs": [
    {
     "name": "stdout",
     "output_type": "stream",
     "text": [
      "Enter a word to translate from English to Spanish (enter 0 to stop):couch\n",
      "The Spanish word for COUCH is not in this dictionary.\n",
      "\n",
      "Enter a word to translate from English to Spanish (enter 0 to stop):bed\n",
      "The Spanish word for bed is CAMA.\n",
      "\n",
      "Enter a word to translate from English to Spanish (enter 0 to stop):cat\n",
      "The Spanish word for CAT is not in this dictionary.\n",
      "\n",
      "Enter a word to translate from English to Spanish (enter 0 to stop):hen\n",
      "The Spanish word for hen is GALLINA.\n",
      "\n",
      "Enter a word to translate from English to Spanish (enter 0 to stop):0\n"
     ]
    }
   ],
   "source": [
    "ENSP_Dict={'hot':'caliente',\n",
    "           'blue':'azul',\n",
    "           'rain':'lluvia',\n",
    "           'turkey':'pavo',\n",
    "           'store':'tienda',\n",
    "           'bed':'cama',\n",
    "           'red':'rojo',\n",
    "           'cold':'frio',\n",
    "           'cloud':'nube',\n",
    "           'hen':'gallina'}\n",
    "\n",
    "prompt='Enter a word to translate from English to Spanish (enter 0 to stop):'\n",
    "active=True\n",
    "word=\" \"\n",
    "\n",
    "while active:\n",
    "    word=input(prompt)\n",
    "    if word=='0':\n",
    "        break\n",
    "    elif word in ENSP_Dict:\n",
    "        print('The Spanish word for ' + word + ' is ' + ENSP_Dict[word].upper() + '.\\n')\n",
    "    else:\n",
    "        print('The Spanish word for ' + word.upper() + ' is not in this dictionary.\\n')"
   ]
  },
  {
   "cell_type": "markdown",
   "id": "4df0553a",
   "metadata": {},
   "source": [
    "## Task 2: Temperature Converter"
   ]
  },
  {
   "cell_type": "code",
   "execution_count": 9,
   "id": "a234918d",
   "metadata": {},
   "outputs": [
    {
     "name": "stdout",
     "output_type": "stream",
     "text": [
      "{1: 27.77777777777778, 2: 31.11111111111111, 3: 32.22222222222222, 4: 32.22222222222222, 5: 32.22222222222222, 6: 28.88888888888889, 7: 23.88888888888889, 8: 23.88888888888889, 9: 23.88888888888889, 10: 26.11111111111111, 11: 27.77777777777778, 12: 22.77777777777778, 13: 25.0, 14: 26.11111111111111, 15: 25.0, 16: 26.11111111111111, 17: 23.88888888888889, 18: 23.88888888888889, 19: 25.0, 20: 27.77777777777778, 21: 27.77777777777778, 22: 28.88888888888889, 23: 27.22222222222222, 24: 27.22222222222222, 25: 27.77777777777778, 26: 28.88888888888889, 27: 25.0, 28: 25.0, 29: 26.11111111111111, 30: 27.77777777777778}\n"
     ]
    }
   ],
   "source": [
    "temp_dict={1:82,2:88,3:90,4:90,5:90,6:84,7:75,8:75,9:75,10:79,11:82,12:73,13:77,14:79,15:77,\n",
    "          16:79,17:75,18:75,19:77,20:82,21:82,22:84,23:81,24:81,25:82,26:84,27:77,28:77,29:79,30:82}\n",
    "\n",
    "for i in range(1,1+len(temp_dict)):\n",
    "    temp_dict[i]=(temp_dict[i]-32)*5/9\n",
    "print(temp_dict)"
   ]
  },
  {
   "cell_type": "markdown",
   "id": "5391fa12",
   "metadata": {},
   "source": [
    "## Task 3: Create a Dictionary"
   ]
  },
  {
   "cell_type": "code",
   "execution_count": 8,
   "id": "d1c90cc4",
   "metadata": {},
   "outputs": [
    {
     "name": "stdout",
     "output_type": "stream",
     "text": [
      "{1: 1, 2: 4, 3: 9, 4: 16, 5: 25, 6: 36, 7: 49, 8: 64, 9: 81, 10: 100, 11: 121, 12: 144, 13: 169, 14: 196, 15: 225}\n"
     ]
    }
   ],
   "source": [
    "keys=list(range(1,16))\n",
    "values=[]\n",
    "\n",
    "for i in range(len(keys)):\n",
    "    values.append(keys[i]**2)\n",
    "    \n",
    "dictionary=dict(zip(keys,values))\n",
    "print(dictionary)"
   ]
  },
  {
   "cell_type": "markdown",
   "id": "e892fb43",
   "metadata": {},
   "source": [
    "## Task 4: User Profile Dictionary"
   ]
  },
  {
   "cell_type": "code",
   "execution_count": 53,
   "id": "67220437",
   "metadata": {},
   "outputs": [
    {
     "name": "stdout",
     "output_type": "stream",
     "text": [
      "Please type A to add a new user, S to search for an exisiting user profile or D for Done: \n",
      "G\n",
      "Not a valid input please enter A to add a new user, S to search for an existing user profile or D for Done\n",
      "\n",
      "Please type A to add a new user, S to search for an exisiting user profile or D for Done: \n",
      "A\n",
      "Please enter your user profile information.\n",
      "What is your name? Jesse\n",
      "What is your age? 33\n",
      "What is your email address? jj@j.com\n",
      "what is the city you currently live in? Jtown\n",
      "Thank you for creating your profile!\n",
      "\n",
      "Please type A to add a new user, S to search for an exisiting user profile or D for Done: \n",
      "A\n",
      "Please enter your user profile information.\n",
      "What is your name? Violet\n",
      "What is your age? 31\n",
      "What is your email address? vv@gmail.com\n",
      "what is the city you currently live in? Violetville\n",
      "Thank you for creating your profile!\n",
      "\n",
      "Please type A to add a new user, S to search for an exisiting user profile or D for Done: \n",
      "S\n",
      "What is the name on the profile you wish to search \n",
      "John\n",
      "This user is not found\n",
      "\n",
      "Please type A to add a new user, S to search for an exisiting user profile or D for Done: \n",
      "S\n",
      "What is the name on the profile you wish to search \n",
      "Jesse\n",
      "Age: 33 email: jj@j.com city: Jtown\n",
      "\n",
      "Please type A to add a new user, S to search for an exisiting user profile or D for Done: \n",
      "S\n",
      "What is the name on the profile you wish to search \n",
      "Violet\n",
      "Age: 31 email: vv@gmail.com city: Violetville\n",
      "\n",
      "Please type A to add a new user, S to search for an exisiting user profile or D for Done: \n",
      "D\n"
     ]
    }
   ],
   "source": [
    "#A\n",
    "User_profiles={} \n",
    "\n",
    "#B \n",
    "prompt0 =\"Please type A to add a new user, S to search for an exisiting user profile or D for Done: \\n\"\n",
    "prompt1 = \"Please enter your user profile information.\\nWhat is your name? \"\n",
    "prompt2 = \"What is your age? \"\n",
    "prompt3 = \"What is your email address? \"\n",
    "prompt4 = \"what is the city you currently live in? \"\n",
    "prompt5 = \"What is the name on the profile you wish to search \\n\"\n",
    "\n",
    "active = True\n",
    "while active:\n",
    "    ASD = input(prompt0)\n",
    "    if ASD == 'A':  #D\n",
    "        user=input(prompt1)\n",
    "        age = input(prompt2)\n",
    "        email = input(prompt3)\n",
    "        city = input(prompt4)\n",
    "        print(\"Thank you for creating your profile!\\n\")\n",
    "        User_profiles[user]=[age,email,city]\n",
    "    elif ASD == 'D':\n",
    "        break #C\n",
    "    elif ASD=='S':\n",
    "        search=input(prompt5)\n",
    "        if search in User_profiles:\n",
    "            print(\"Age: \" + User_profiles[search][0] + \" email: \" + User_profiles[search][1] + \" city: \" + User_profiles[search][2] +\"\\n\")\n",
    "        else:\n",
    "            print(\"This user is not found\\n\")\n",
    "    else:\n",
    "        print(\"Not a valid input please enter A to add a new user, S to search for an existing user profile or D for Done\\n\")\n",
    "        continue"
   ]
  }
 ],
 "metadata": {
  "kernelspec": {
   "display_name": "Python 3 (ipykernel)",
   "language": "python",
   "name": "python3"
  },
  "language_info": {
   "codemirror_mode": {
    "name": "ipython",
    "version": 3
   },
   "file_extension": ".py",
   "mimetype": "text/x-python",
   "name": "python",
   "nbconvert_exporter": "python",
   "pygments_lexer": "ipython3",
   "version": "3.11.5"
  }
 },
 "nbformat": 4,
 "nbformat_minor": 5
}
